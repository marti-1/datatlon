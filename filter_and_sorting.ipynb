{
 "cells": [
  {
   "cell_type": "markdown",
   "metadata": {},
   "source": [
    "# Filtering and Sorting Data"
   ]
  },
  {
   "cell_type": "code",
   "execution_count": 40,
   "metadata": {},
   "outputs": [
    {
     "name": "stdout",
     "output_type": "stream",
     "text": [
      "The autoreload extension is already loaded. To reload it, use:\n",
      "  %reload_ext autoreload\n"
     ]
    }
   ],
   "source": [
    "from shmandas import *\n",
    "import pandas as pd\n",
    "import numpy as np\n",
    "%load_ext autoreload\n",
    "%autoreload 2"
   ]
  },
  {
   "cell_type": "code",
   "execution_count": 2,
   "metadata": {},
   "outputs": [],
   "source": [
    "euro12 = pd.read_csv('https://raw.githubusercontent.com/guipsamora/pandas_exercises/master/02_Filtering_%26_Sorting/Euro12/Euro_2012_stats_TEAM.csv', sep=',')\n",
    "euro12 = from_df(euro12)"
   ]
  },
  {
   "cell_type": "code",
   "execution_count": 8,
   "metadata": {},
   "outputs": [
    {
     "name": "stdout",
     "output_type": "stream",
     "text": [
      "Team              Goals    Shots on target    Shots off target  Shooting Accuracy    % Goals-to-shots      Total shots (inc. Blocked)    Hit Woodwork    Penalty goals    Penalties not scored    Headed goals    Passes    Passes completed  Passing Accuracy      Touches    Crosses    Dribbles    Corners Taken    Tackles    Clearances    Interceptions    Clearances off line    Clean Sheets    Blocks    Goals conceded    Saves made  Saves-to-shots ratio      Fouls Won    Fouls Conceded    Offsides    Yellow Cards    Red Cards    Subs on    Subs off    Players Used\n",
      "--------------  -------  -----------------  ------------------  -------------------  ------------------  ----------------------------  --------------  ---------------  ----------------------  --------------  --------  ------------------  ------------------  ---------  ---------  ----------  ---------------  ---------  ------------  ---------------  ---------------------  --------------  --------  ----------------  ------------  ----------------------  -----------  ----------------  ----------  --------------  -----------  ---------  ----------  --------------\n",
      "Croatia               4                 13                  12  51.9%                16.0%                                         32               0                0                       0               2      1076                 828  76.9%                    1706         60          42               14         49            83               56                    nan               0        10                 3            13  81.3%                            41                62           2               9            0          9           9              16\n",
      "Czech Republic        4                 13                  18  41.9%                12.9%                                         39               0                0                       0               0      1565                1223  78.1%                    2358         46          68               21         62            98               37                      2               1        10                 6             9  60.1%                            53                73           8               7            0         11          11              19\n",
      "Denmark               4                 10                  10  50.0%                20.0%                                         27               1                0                       0               3      1298                1082  83.3%                    1873         43          32               16         40            61               59                      0               1        10                 5            10  66.7%                            25                38           8               4            0          7           7              15\n",
      "England               5                 11                  18  50.0%                17.2%                                         40               0                0                       0               3      1488                1200  80.6%                    2440         58          60               16         86           106               72                      1               2        29                 3            22  88.1%                            43                45           6               5            0         11          11              16\n",
      "France                3                 22                  24  37.9%                6.5%                                          65               1                0                       0               0      2066                1803  87.2%                    2909         55          76               28         71            76               58                      0               1         7                 5             6  54.6%                            36                51           5               6            0         11          11              19\n"
     ]
    }
   ],
   "source": [
    "head(euro12)\n",
    "\n",
    "# NOTE: tabulated output for lots of columns gets distorted, might need to consider some alternative output format e.g. records."
   ]
  },
  {
   "cell_type": "code",
   "execution_count": 10,
   "metadata": {},
   "outputs": [
    {
     "data": {
      "text/plain": [
       "array([ 4,  4,  4,  5,  3, 10,  5,  6,  2,  2,  6,  1,  5, 12,  5,  2])"
      ]
     },
     "execution_count": 10,
     "metadata": {},
     "output_type": "execute_result"
    }
   ],
   "source": [
    "euro12['Goals']"
   ]
  },
  {
   "cell_type": "code",
   "execution_count": 12,
   "metadata": {},
   "outputs": [
    {
     "data": {
      "text/plain": [
       "16"
      ]
     },
     "execution_count": 12,
     "metadata": {},
     "output_type": "execute_result"
    }
   ],
   "source": [
    "nrows(euro12)"
   ]
  },
  {
   "cell_type": "markdown",
   "metadata": {},
   "source": [
    "**View only the columns Team, Yellow Cards and Red Cards and assign them to a dataframe called discipline**"
   ]
  },
  {
   "cell_type": "code",
   "execution_count": 13,
   "metadata": {},
   "outputs": [
    {
     "name": "stdout",
     "output_type": "stream",
     "text": [
      "Team              Yellow Cards    Red Cards\n",
      "--------------  --------------  -----------\n",
      "Croatia                      9            0\n",
      "Czech Republic               7            0\n",
      "Denmark                      4            0\n",
      "England                      5            0\n",
      "France                       6            0\n"
     ]
    }
   ],
   "source": [
    "discipline = select(euro12,['Team', 'Yellow Cards', 'Red Cards'])\n",
    "head(discipline)"
   ]
  },
  {
   "cell_type": "markdown",
   "metadata": {},
   "source": [
    "**Sort the teams by Red Cards, then to Yellow Cards**"
   ]
  },
  {
   "cell_type": "code",
   "execution_count": 34,
   "metadata": {},
   "outputs": [
    {
     "name": "stdout",
     "output_type": "stream",
     "text": [
      "Team                   Yellow Cards    Red Cards\n",
      "-------------------  --------------  -----------\n",
      "Greece                            9            1\n",
      "Poland                            7            1\n",
      "Republic of Ireland               6            1\n",
      "Italy                            16            0\n",
      "Portugal                         12            0\n",
      "Spain                            11            0\n",
      "Croatia                           9            0\n",
      "Czech Republic                    7            0\n",
      "Sweden                            7            0\n",
      "France                            6            0\n",
      "Russia                            6            0\n",
      "England                           5            0\n",
      "Netherlands                       5            0\n",
      "Ukraine                           5            0\n",
      "Denmark                           4            0\n",
      "Germany                           4            0\n"
     ]
    }
   ],
   "source": [
    "head(arrange(discipline, ['Red Cards', 'Yellow Cards'], [False,False]), 16)"
   ]
  },
  {
   "cell_type": "markdown",
   "metadata": {},
   "source": [
    "**Filter teams that scored more than 6 goals**"
   ]
  },
  {
   "cell_type": "code",
   "execution_count": 41,
   "metadata": {},
   "outputs": [
    {
     "name": "stdout",
     "output_type": "stream",
     "text": [
      "Team       Goals    Shots on target    Shots off target  Shooting Accuracy    % Goals-to-shots      Total shots (inc. Blocked)    Hit Woodwork    Penalty goals    Penalties not scored    Headed goals    Passes    Passes completed  Passing Accuracy      Touches    Crosses    Dribbles    Corners Taken    Tackles    Clearances    Interceptions    Clearances off line    Clean Sheets    Blocks    Goals conceded    Saves made  Saves-to-shots ratio      Fouls Won    Fouls Conceded    Offsides    Yellow Cards    Red Cards    Subs on    Subs off    Players Used\n",
      "-------  -------  -----------------  ------------------  -------------------  ------------------  ----------------------------  --------------  ---------------  ----------------------  --------------  --------  ------------------  ------------------  ---------  ---------  ----------  ---------------  ---------  ------------  ---------------  ---------------------  --------------  --------  ----------------  ------------  ----------------------  -----------  ----------------  ----------  --------------  -----------  ---------  ----------  --------------\n",
      "Germany       10                 32                  32  47.8%                15.6%                                         80               2                1                       0               2      2774                2427  87.4%                    3761        101          60               35         91            73               69                      0               1        11                 6            10  62.6%                            63                49          12               4            0         15          15              17\n",
      "Spain         12                 42                  33  55.9%                16.0%                                        100               0                1                       0               2      4317                3820  88.4%                    5585         69         106               44        122           102               79                      0               5         8                 1            15  93.8%                           102                83          19              11            0         17          17              18\n"
     ]
    }
   ],
   "source": [
    "head(rows(euro12, euro12['Goals'] > 6))"
   ]
  },
  {
   "cell_type": "markdown",
   "metadata": {},
   "source": [
    "**Present only the Shooting Accuracy from England, Italy and Russia**"
   ]
  },
  {
   "cell_type": "code",
   "execution_count": 53,
   "metadata": {},
   "outputs": [
    {
     "name": "stdout",
     "output_type": "stream",
     "text": [
      "Team     Shooting Accuracy\n",
      "-------  -------------------\n",
      "England  50.0%\n",
      "Italy    43.0%\n",
      "Russia   22.5%\n"
     ]
    }
   ],
   "source": [
    "head(\n",
    "    select(\n",
    "        rows(euro12, np.in1d(euro12['Team'], ['England', 'Italy', 'Russia'])),\n",
    "        ['Team','Shooting Accuracy']\n",
    "    )\n",
    ")"
   ]
  }
 ],
 "metadata": {
  "kernelspec": {
   "display_name": "Python 3",
   "language": "python",
   "name": "python3"
  },
  "language_info": {
   "codemirror_mode": {
    "name": "ipython",
    "version": 3
   },
   "file_extension": ".py",
   "mimetype": "text/x-python",
   "name": "python",
   "nbconvert_exporter": "python",
   "pygments_lexer": "ipython3",
   "version": "3.6.8"
  }
 },
 "nbformat": 4,
 "nbformat_minor": 4
}
