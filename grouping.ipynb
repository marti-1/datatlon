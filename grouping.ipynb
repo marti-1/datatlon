{
 "cells": [
  {
   "cell_type": "markdown",
   "metadata": {},
   "source": [
    "# Grouping"
   ]
  },
  {
   "cell_type": "code",
   "execution_count": 1,
   "metadata": {},
   "outputs": [],
   "source": [
    "from shmandas import *\n",
    "import pandas as pd\n",
    "import numpy as np\n",
    "%load_ext autoreload\n",
    "%autoreload 2"
   ]
  },
  {
   "cell_type": "code",
   "execution_count": 3,
   "metadata": {},
   "outputs": [
    {
     "name": "stdout",
     "output_type": "stream",
     "text": [
      "country        beer_servings    spirit_servings    wine_servings    total_litres_of_pure_alcohol  continent\n",
      "-----------  ---------------  -----------------  ---------------  ------------------------------  -----------\n",
      "Afghanistan                0                  0                0                             0    AS\n",
      "Albania                   89                132               54                             4.9  EU\n",
      "Algeria                   25                  0               14                             0.7  AF\n",
      "Andorra                  245                138              312                            12.4  EU\n",
      "Angola                   217                 57               45                             5.9  AF\n"
     ]
    }
   ],
   "source": [
    "drinks = pd.read_csv('https://raw.githubusercontent.com/justmarkham/DAT8/master/data/drinks.csv')\n",
    "drinks = from_df(drinks)\n",
    "head(drinks)"
   ]
  },
  {
   "cell_type": "markdown",
   "metadata": {},
   "source": [
    "**Which continent drinks more beer on average?**"
   ]
  },
  {
   "cell_type": "code",
   "execution_count": 6,
   "metadata": {},
   "outputs": [
    {
     "name": "stdout",
     "output_type": "stream",
     "text": [
      "continent      avg_served\n",
      "-----------  ------------\n",
      "EU               193.778\n",
      "SA               175.083\n",
      "nan              145.435\n",
      "OC                89.6875\n",
      "AF                61.4717\n"
     ]
    }
   ],
   "source": [
    "y = arrange(\n",
    "    summarize(\n",
    "        group_by(drinks, 'continent'),\n",
    "        continent = sf(first, 'continent'),\n",
    "        avg_served = sf(np.mean, 'beer_servings')\n",
    "    ),\n",
    "    'avg_served',\n",
    "    False\n",
    ")\n",
    "head(y)"
   ]
  },
  {
   "cell_type": "code",
   "execution_count": 7,
   "metadata": {},
   "outputs": [
    {
     "name": "stdout",
     "output_type": "stream",
     "text": [
      "  age  gender    occupation      zip_code\n",
      "-----  --------  ------------  ----------\n",
      "   24  M         technician         85711\n",
      "   53  F         other              94043\n",
      "   23  M         writer             32067\n",
      "   24  M         technician         43537\n",
      "   33  F         other              15213\n"
     ]
    }
   ],
   "source": [
    "users = pd.read_table('https://raw.githubusercontent.com/justmarkham/DAT8/master/data/u.user', \n",
    "                      sep='|', index_col='user_id')\n",
    "users = from_df(users)\n",
    "head(users)"
   ]
  },
  {
   "cell_type": "markdown",
   "metadata": {},
   "source": [
    "**Discover the Male ratio per occupation and sort it from the most to the least**"
   ]
  },
  {
   "cell_type": "code",
   "execution_count": 11,
   "metadata": {},
   "outputs": [
    {
     "name": "stdout",
     "output_type": "stream",
     "text": [
      "occupation      male_r\n",
      "------------  --------\n",
      "doctor        1\n",
      "engineer      0.970149\n",
      "technician    0.962963\n",
      "retired       0.928571\n",
      "programmer    0.909091\n"
     ]
    }
   ],
   "source": [
    "y = summarize(\n",
    "    group_by(users, 'occupation'),\n",
    "    occupation = sf(first, 'occupation'),\n",
    "    male_r = lambda g: np.sum(g['gender'] == 'M') / nrows(g)\n",
    ")\n",
    "head(arrange(y, 'male_r', False))"
   ]
  },
  {
   "cell_type": "markdown",
   "metadata": {},
   "source": [
    "**For each combination of occupation and gender, calculate the mean age**"
   ]
  },
  {
   "cell_type": "code",
   "execution_count": 16,
   "metadata": {},
   "outputs": [
    {
     "name": "stdout",
     "output_type": "stream",
     "text": [
      "occupation     gender      avg_age\n",
      "-------------  --------  ---------\n",
      "administrator  F           40.6389\n",
      "administrator  M           37.1628\n",
      "artist         F           30.3077\n",
      "artist         M           32.3333\n",
      "doctor         M           43.5714\n",
      "educator       F           39.1154\n",
      "educator       M           43.1014\n",
      "engineer       F           29.5\n",
      "engineer       M           36.6\n",
      "entertainment  F           31\n",
      "entertainment  M           29\n",
      "executive      F           44\n",
      "executive      M           38.1724\n",
      "healthcare     F           39.8182\n",
      "healthcare     M           45.4\n",
      "homemaker      F           34.1667\n",
      "homemaker      M           23\n",
      "lawyer         F           39.5\n",
      "lawyer         M           36.2\n",
      "librarian      F           40\n"
     ]
    }
   ],
   "source": [
    "head(\n",
    "    arrange(\n",
    "        summarize(\n",
    "            group_by(users, ['occupation', 'gender']),\n",
    "            occupation = sf(first, 'occupation'),\n",
    "            gender = sf(first, 'gender'),\n",
    "            avg_age = sf(np.mean, 'age')\n",
    "        ),\n",
    "        ['occupation', 'gender']\n",
    "    ), 20\n",
    ")"
   ]
  },
  {
   "cell_type": "markdown",
   "metadata": {},
   "source": [
    "**For each occupation present the percentage of women and men**"
   ]
  },
  {
   "cell_type": "code",
   "execution_count": 20,
   "metadata": {},
   "outputs": [
    {
     "name": "stdout",
     "output_type": "stream",
     "text": [
      "occupation       male_r    female_r\n",
      "-------------  --------  ----------\n",
      "technician      96.2963      3.7037\n",
      "other           65.7143     34.2857\n",
      "writer          57.7778     42.2222\n",
      "executive       90.625       9.375\n",
      "administrator   54.4304     45.5696\n"
     ]
    }
   ],
   "source": [
    "head(\n",
    "    summarize(\n",
    "        group_by(users, ['occupation']),\n",
    "        occupation = sf(first, 'occupation'),\n",
    "        male_r = lambda g: np.sum(g['gender'] == 'M') / nrows(g) * 100,\n",
    "        female_r = lambda g: np.sum(g['gender'] == 'F') / nrows(g) * 100\n",
    "    )\n",
    ")"
   ]
  }
 ],
 "metadata": {
  "kernelspec": {
   "display_name": "Python 3",
   "language": "python",
   "name": "python3"
  },
  "language_info": {
   "codemirror_mode": {
    "name": "ipython",
    "version": 3
   },
   "file_extension": ".py",
   "mimetype": "text/x-python",
   "name": "python",
   "nbconvert_exporter": "python",
   "pygments_lexer": "ipython3",
   "version": "3.6.8"
  }
 },
 "nbformat": 4,
 "nbformat_minor": 4
}
