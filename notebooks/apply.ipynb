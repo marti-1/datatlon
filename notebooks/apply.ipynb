{
 "cells": [
  {
   "cell_type": "markdown",
   "metadata": {},
   "source": [
    "# Apply"
   ]
  },
  {
   "cell_type": "code",
   "execution_count": 12,
   "metadata": {},
   "outputs": [
    {
     "name": "stdout",
     "output_type": "stream",
     "text": [
      "The autoreload extension is already loaded. To reload it, use:\n",
      "  %reload_ext autoreload\n"
     ]
    }
   ],
   "source": [
    "from shmandas import *\n",
    "import pandas as pd\n",
    "import numpy as np\n",
    "%load_ext autoreload\n",
    "%autoreload 2"
   ]
  },
  {
   "cell_type": "code",
   "execution_count": 2,
   "metadata": {},
   "outputs": [],
   "source": [
    "csv_url = 'https://raw.githubusercontent.com/guipsamora/pandas_exercises/master/04_Apply/Students_Alcohol_Consumption/student-mat.csv'\n",
    "df = pd.read_csv(csv_url)\n",
    "df = from_df(df)"
   ]
  },
  {
   "cell_type": "markdown",
   "metadata": {},
   "source": [
    "**For the purpose of this exercise slice the dataframe from 'school' until the 'guardian' column**"
   ]
  },
  {
   "cell_type": "code",
   "execution_count": 8,
   "metadata": {},
   "outputs": [
    {
     "name": "stdout",
     "output_type": "stream",
     "text": [
      "school    sex      age  address    famsize    Pstatus      Medu    Fedu  Mjob     Fjob      reason    guardian\n",
      "--------  -----  -----  ---------  ---------  ---------  ------  ------  -------  --------  --------  ----------\n",
      "GP        F         18  U          GT3        A               4       4  at_home  teacher   course    mother\n",
      "GP        F         17  U          GT3        T               1       1  at_home  other     course    father\n",
      "GP        F         15  U          LE3        T               1       1  at_home  other     other     mother\n",
      "GP        F         15  U          GT3        T               4       2  health   services  home      mother\n",
      "GP        F         16  U          GT3        T               3       3  other    other     home      father\n"
     ]
    }
   ],
   "source": [
    "head(select(df, fields(df, 'school', 'guardian')))"
   ]
  },
  {
   "cell_type": "markdown",
   "metadata": {},
   "source": [
    "**Create a lambda function that will capitalize strings.**"
   ]
  },
  {
   "cell_type": "code",
   "execution_count": 9,
   "metadata": {},
   "outputs": [],
   "source": [
    "capitalizer = lambda x: x.capitalize()"
   ]
  },
  {
   "cell_type": "markdown",
   "metadata": {},
   "source": [
    "**Capitalize both Mjob and Fjob**"
   ]
  },
  {
   "cell_type": "code",
   "execution_count": null,
   "metadata": {},
   "outputs": [],
   "source": [
    "# stud_alcoh['Mjob'].apply(capitalizer)\n",
    "# stud_alcoh['Fjob'].apply(capitalizer)\n",
    "# TBA"
   ]
  },
  {
   "cell_type": "markdown",
   "metadata": {},
   "source": [
    "**Print the last elements of the data set.**"
   ]
  },
  {
   "cell_type": "code",
   "execution_count": 16,
   "metadata": {},
   "outputs": [
    {
     "name": "stdout",
     "output_type": "stream",
     "text": [
      "school    sex      age  address    famsize    Pstatus      Medu    Fedu  Mjob      Fjob\n",
      "--------  -----  -----  ---------  ---------  ---------  ------  ------  --------  --------\n",
      "MS        F         18  U          GT3        T               1       1  other     other\n",
      "MS        M         20  U          LE3        A               2       2  services  services\n",
      "MS        M         17  U          LE3        T               3       1  services  services\n",
      "MS        M         21  R          GT3        T               1       1  other     other\n",
      "MS        M         18  R          LE3        T               3       2  services  other\n",
      "MS        M         19  U          LE3        T               1       1  other     at_home\n"
     ]
    }
   ],
   "source": [
    "tail(\n",
    "    select(df, fields(df, 0, 10))\n",
    ")"
   ]
  }
 ],
 "metadata": {
  "kernelspec": {
   "display_name": "Python 3",
   "language": "python",
   "name": "python3"
  },
  "language_info": {
   "codemirror_mode": {
    "name": "ipython",
    "version": 3
   },
   "file_extension": ".py",
   "mimetype": "text/x-python",
   "name": "python",
   "nbconvert_exporter": "python",
   "pygments_lexer": "ipython3",
   "version": "3.6.8"
  }
 },
 "nbformat": 4,
 "nbformat_minor": 4
}
