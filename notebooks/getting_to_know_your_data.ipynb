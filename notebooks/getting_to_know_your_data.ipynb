{
 "cells": [
  {
   "cell_type": "code",
   "execution_count": 96,
   "metadata": {},
   "outputs": [
    {
     "name": "stdout",
     "output_type": "stream",
     "text": [
      "The autoreload extension is already loaded. To reload it, use:\n",
      "  %reload_ext autoreload\n"
     ]
    }
   ],
   "source": [
    "from shmandas import *\n",
    "import pandas as pd\n",
    "import numpy as np\n",
    "%load_ext autoreload\n",
    "%autoreload 2"
   ]
  },
  {
   "cell_type": "code",
   "execution_count": 90,
   "metadata": {},
   "outputs": [],
   "source": [
    "url = 'https://raw.githubusercontent.com/justmarkham/DAT8/master/data/chipotle.tsv'\n",
    "    \n",
    "chipo = pd.read_csv(url, sep = '\\t')\n",
    "chipo = from_df(chipo)"
   ]
  },
  {
   "cell_type": "code",
   "execution_count": 26,
   "metadata": {},
   "outputs": [
    {
     "name": "stdout",
     "output_type": "stream",
     "text": [
      "  order_id    quantity  item_name                              choice_description                                                          item_price\n",
      "----------  ----------  -------------------------------------  --------------------------------------------------------------------------  ------------\n",
      "         1           1  Chips and Fresh Tomato Salsa           nan                                                                         $2.39\n",
      "         1           1  Izze                                   [Clementine]                                                                $3.39\n",
      "         1           1  Nantucket Nectar                       [Apple]                                                                     $3.39\n",
      "         1           1  Chips and Tomatillo-Green Chili Salsa  nan                                                                         $2.39\n",
      "         2           2  Chicken Bowl                           [Tomatillo-Red Chili Salsa (Hot), [Black Beans, Rice, Cheese, Sour Cream]]  $16.98\n"
     ]
    }
   ],
   "source": [
    "head(chipo)"
   ]
  },
  {
   "cell_type": "code",
   "execution_count": 27,
   "metadata": {},
   "outputs": [
    {
     "data": {
      "text/plain": [
       "4622"
      ]
     },
     "execution_count": 27,
     "metadata": {},
     "output_type": "execute_result"
    }
   ],
   "source": [
    "nrows(chipo)"
   ]
  },
  {
   "cell_type": "code",
   "execution_count": 28,
   "metadata": {},
   "outputs": [
    {
     "data": {
      "text/plain": [
       "5"
      ]
     },
     "execution_count": 28,
     "metadata": {},
     "output_type": "execute_result"
    }
   ],
   "source": [
    "len(chipo)"
   ]
  },
  {
   "cell_type": "markdown",
   "metadata": {},
   "source": [
    "**Which was the most-ordered item?**"
   ]
  },
  {
   "cell_type": "code",
   "execution_count": 97,
   "metadata": {},
   "outputs": [
    {
     "name": "stdout",
     "output_type": "stream",
     "text": [
      "item_name              n\n",
      "-------------------  ---\n",
      "Chicken Bowl         761\n",
      "Chicken Burrito      591\n",
      "Chips and Guacamole  506\n",
      "Steak Burrito        386\n",
      "Canned Soft Drink    351\n"
     ]
    }
   ],
   "source": [
    "# c = chipo.groupby('item_name')\n",
    "# c = c.sum()\n",
    "# c = c.sort_values(['quantity'], ascending=False)\n",
    "# c.head(1)\n",
    "c = group_by(chipo, 'item_name')\n",
    "c = ungroup(\n",
    "    summarize(c, item_name=sf(first, 'item_name'), n=sf(np.sum,'quantity'))\n",
    ")\n",
    "c = arrange(c, 'n', False)\n",
    "head(c)"
   ]
  },
  {
   "cell_type": "markdown",
   "metadata": {},
   "source": [
    "**For the most-ordered item, how many items were ordered?**"
   ]
  },
  {
   "cell_type": "code",
   "execution_count": 66,
   "metadata": {},
   "outputs": [
    {
     "data": {
      "text/plain": [
       "761"
      ]
     },
     "execution_count": 66,
     "metadata": {},
     "output_type": "execute_result"
    }
   ],
   "source": [
    "c['n'][0]"
   ]
  },
  {
   "cell_type": "markdown",
   "metadata": {},
   "source": [
    "**How many items were orderd in total?**"
   ]
  },
  {
   "cell_type": "code",
   "execution_count": 67,
   "metadata": {},
   "outputs": [
    {
     "data": {
      "text/plain": [
       "4972"
      ]
     },
     "execution_count": 67,
     "metadata": {},
     "output_type": "execute_result"
    }
   ],
   "source": [
    "np.sum(chipo['quantity'])"
   ]
  },
  {
   "cell_type": "markdown",
   "metadata": {},
   "source": [
    "**Turn the item price into a float**"
   ]
  },
  {
   "cell_type": "code",
   "execution_count": 71,
   "metadata": {},
   "outputs": [
    {
     "name": "stdout",
     "output_type": "stream",
     "text": [
      "  order_id    quantity  item_name                              choice_description                                                            item_price\n",
      "----------  ----------  -------------------------------------  --------------------------------------------------------------------------  ------------\n",
      "         1           1  Chips and Fresh Tomato Salsa           nan                                                                                 2.39\n",
      "         1           1  Izze                                   [Clementine]                                                                        3.39\n",
      "         1           1  Nantucket Nectar                       [Apple]                                                                             3.39\n",
      "         1           1  Chips and Tomatillo-Green Chili Salsa  nan                                                                                 2.39\n",
      "         2           2  Chicken Bowl                           [Tomatillo-Red Chili Salsa (Hot), [Black Beans, Rice, Cheese, Sour Cream]]         16.98\n"
     ]
    }
   ],
   "source": [
    "dollarizer = lambda x: float(x[1:-1])\n",
    "chipo['item_price'] = np.array([dollarizer(x) for x in chipo['item_price']])\n",
    "# NOTE: chipo = apply(chipo, {'item_price': dollarizer})\n",
    "head(chipo)"
   ]
  },
  {
   "cell_type": "markdown",
   "metadata": {},
   "source": [
    "**How many orders were made in the period?**"
   ]
  },
  {
   "cell_type": "code",
   "execution_count": 74,
   "metadata": {},
   "outputs": [
    {
     "data": {
      "text/plain": [
       "1834"
      ]
     },
     "execution_count": 74,
     "metadata": {},
     "output_type": "execute_result"
    }
   ],
   "source": [
    "len(group_by(chipo, 'order_id'))"
   ]
  },
  {
   "cell_type": "markdown",
   "metadata": {},
   "source": [
    "**What is the average revenue amount per order?**"
   ]
  },
  {
   "cell_type": "code",
   "execution_count": 76,
   "metadata": {},
   "outputs": [
    {
     "data": {
      "text/plain": [
       "21.39423118865867"
      ]
     },
     "execution_count": 76,
     "metadata": {},
     "output_type": "execute_result"
    }
   ],
   "source": [
    "# chipo['revenue'] = chipo['quantity'] * chipo['item_price']\n",
    "# order_grouped = chipo.groupby(by=['order_id']).sum()\n",
    "# order_grouped.mean()['revenue']\n",
    "\n",
    "chipo['revenue'] = chipo['quantity'] * chipo['item_price']\n",
    "c = group_by(chipo, 'order_id')\n",
    "c = summarize(c, order_rev = sf(np.sum, 'revenue'))\n",
    "c = ungroup(c)\n",
    "np.mean(c['order_rev'])"
   ]
  },
  {
   "cell_type": "markdown",
   "metadata": {},
   "source": [
    "**How many different items are sold?**"
   ]
  },
  {
   "cell_type": "code",
   "execution_count": 87,
   "metadata": {},
   "outputs": [
    {
     "data": {
      "text/plain": [
       "50"
      ]
     },
     "execution_count": 87,
     "metadata": {},
     "output_type": "execute_result"
    }
   ],
   "source": [
    "len(group_by(chipo, 'item_name'))"
   ]
  },
  {
   "cell_type": "code",
   "execution_count": 88,
   "metadata": {},
   "outputs": [
    {
     "data": {
      "text/plain": [
       "50"
      ]
     },
     "execution_count": 88,
     "metadata": {},
     "output_type": "execute_result"
    }
   ],
   "source": [
    "len(np.unique(chipo['item_name']))"
   ]
  }
 ],
 "metadata": {
  "kernelspec": {
   "display_name": "Python 3",
   "language": "python",
   "name": "python3"
  },
  "language_info": {
   "codemirror_mode": {
    "name": "ipython",
    "version": 3
   },
   "file_extension": ".py",
   "mimetype": "text/x-python",
   "name": "python",
   "nbconvert_exporter": "python",
   "pygments_lexer": "ipython3",
   "version": "3.6.8"
  }
 },
 "nbformat": 4,
 "nbformat_minor": 4
}
